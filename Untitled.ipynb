{
 "cells": [
  {
   "cell_type": "code",
   "execution_count": 18,
   "id": "4363f59e",
   "metadata": {},
   "outputs": [
    {
     "data": {
      "text/plain": [
       "['numpy',\n",
       " 'pandas',\n",
       " 'matplotlib',\n",
       " 'plotly',\n",
       " 'librosa',\n",
       " 'counter',\n",
       " 'tensorflow',\n",
       " 'scipy.io',\n",
       " 'keras',\n",
       " 'pytorch']"
      ]
     },
     "execution_count": 18,
     "metadata": {},
     "output_type": "execute_result"
    }
   ],
   "source": [
    "python_libraries = ['numpy','pandas', 'matplotlib', 'plotly', 'librosa', 'counter', 'tensorflow', 'scipy.io', 'keras', 'pytorch']\n",
    "python_libraries"
   ]
  },
  {
   "cell_type": "code",
   "execution_count": 19,
   "id": "ae6ce1da",
   "metadata": {},
   "outputs": [
    {
     "data": {
      "text/plain": [
       "['numpy',\n",
       " 'pandas',\n",
       " 'matplotlib',\n",
       " 'plotly',\n",
       " 'librosa',\n",
       " 'counter',\n",
       " 'tensorflow',\n",
       " 'scipy.io',\n",
       " 'keras',\n",
       " 'pytorch',\n",
       " 'pyaudio']"
      ]
     },
     "execution_count": 19,
     "metadata": {},
     "output_type": "execute_result"
    }
   ],
   "source": [
    "python_libraries.append('pyaudio')\n",
    "python_libraries"
   ]
  },
  {
   "cell_type": "code",
   "execution_count": 20,
   "id": "b35b4935",
   "metadata": {},
   "outputs": [
    {
     "data": {
      "text/plain": [
       "'pyaudio'"
      ]
     },
     "execution_count": 20,
     "metadata": {},
     "output_type": "execute_result"
    }
   ],
   "source": [
    "python_libraries.pop(-1)"
   ]
  },
  {
   "cell_type": "code",
   "execution_count": 21,
   "id": "ad466f2e",
   "metadata": {},
   "outputs": [
    {
     "data": {
      "text/plain": [
       "'pytorch'"
      ]
     },
     "execution_count": 21,
     "metadata": {},
     "output_type": "execute_result"
    }
   ],
   "source": [
    "python_libraries.pop(len(python_libraries)-1)"
   ]
  },
  {
   "cell_type": "code",
   "execution_count": 22,
   "id": "05cbe778",
   "metadata": {},
   "outputs": [
    {
     "data": {
      "text/plain": [
       "['pandas',\n",
       " 'matplotlib',\n",
       " 'plotly',\n",
       " 'librosa',\n",
       " 'counter',\n",
       " 'tensorflow',\n",
       " 'scipy.io',\n",
       " 'keras']"
      ]
     },
     "execution_count": 22,
     "metadata": {},
     "output_type": "execute_result"
    }
   ],
   "source": [
    "# remove method\n",
    "python_libraries.remove('numpy')\n",
    "python_libraries"
   ]
  },
  {
   "cell_type": "code",
   "execution_count": 23,
   "id": "df4ff2d8",
   "metadata": {},
   "outputs": [
    {
     "data": {
      "text/plain": [
       "['pandas',\n",
       " 'matplotlib',\n",
       " 'plotly',\n",
       " 'librosa',\n",
       " 'counter',\n",
       " 'tensorflow',\n",
       " 'scipy.io',\n",
       " 'keras']"
      ]
     },
     "execution_count": 23,
     "metadata": {},
     "output_type": "execute_result"
    }
   ],
   "source": [
    "copied_list = python_libraries.copy()\n",
    "copied_list"
   ]
  },
  {
   "cell_type": "markdown",
   "id": "eac208ce",
   "metadata": {},
   "source": [
    "## Dictionaries"
   ]
  },
  {
   "cell_type": "code",
   "execution_count": 25,
   "id": "1ccef3c4",
   "metadata": {},
   "outputs": [
    {
     "data": {
      "text/plain": [
       "{'Make': 'Toyota', 'Model': 'Land Cruiser', 'Year': 2002}"
      ]
     },
     "execution_count": 25,
     "metadata": {},
     "output_type": "execute_result"
    }
   ],
   "source": [
    "cars = {'Make':'Toyota', 'Model':'Land Cruiser', 'Year':2002}\n",
    "cars"
   ]
  },
  {
   "cell_type": "code",
   "execution_count": 27,
   "id": "0df91f02",
   "metadata": {},
   "outputs": [
    {
     "data": {
      "text/plain": [
       "'Toyota'"
      ]
     },
     "execution_count": 27,
     "metadata": {},
     "output_type": "execute_result"
    }
   ],
   "source": [
    "cars['Make']"
   ]
  },
  {
   "cell_type": "code",
   "execution_count": 28,
   "id": "98ee6fc5",
   "metadata": {},
   "outputs": [
    {
     "data": {
      "text/plain": [
       "{'Make': 'Toyota', 'Model': 'Land Cruiser', 'Year': 2002, 'new': 'No'}"
      ]
     },
     "execution_count": 28,
     "metadata": {},
     "output_type": "execute_result"
    }
   ],
   "source": [
    "cars['new'] = 'No'\n",
    "cars"
   ]
  },
  {
   "cell_type": "code",
   "execution_count": 30,
   "id": "fac04eab",
   "metadata": {},
   "outputs": [
    {
     "data": {
      "text/plain": [
       "{'Make': 'Toyota',\n",
       " 'Model': 'Land Cruiser',\n",
       " 'Year': 2002,\n",
       " 'new': 'No',\n",
       " 'Color': 'black'}"
      ]
     },
     "execution_count": 30,
     "metadata": {},
     "output_type": "execute_result"
    }
   ],
   "source": [
    "cars['Color']= 'black'\n",
    "cars"
   ]
  },
  {
   "cell_type": "code",
   "execution_count": 31,
   "id": "4ef70480",
   "metadata": {},
   "outputs": [
    {
     "data": {
      "text/plain": [
       "dict_keys(['Make', 'Model', 'Year', 'new', 'Color'])"
      ]
     },
     "execution_count": 31,
     "metadata": {},
     "output_type": "execute_result"
    }
   ],
   "source": [
    "cars.keys()"
   ]
  },
  {
   "cell_type": "code",
   "execution_count": 32,
   "id": "644e561d",
   "metadata": {},
   "outputs": [
    {
     "data": {
      "text/plain": [
       "dict_values(['Toyota', 'Land Cruiser', 2002, 'No', 'black'])"
      ]
     },
     "execution_count": 32,
     "metadata": {},
     "output_type": "execute_result"
    }
   ],
   "source": [
    "cars.values()"
   ]
  },
  {
   "cell_type": "code",
   "execution_count": 33,
   "id": "b72892bd",
   "metadata": {},
   "outputs": [
    {
     "data": {
      "text/plain": [
       "{'f_name': 'Ujjawal',\n",
       " 'l_name': 'Shah',\n",
       " 'age': 20,\n",
       " 'height': '5.9 ft',\n",
       " 'email': 'ujjawalshah360@gmail.com'}"
      ]
     },
     "execution_count": 33,
     "metadata": {},
     "output_type": "execute_result"
    }
   ],
   "source": [
    "profile = {'f_name':'Ujjawal','l_name':'Shah', 'age':20, 'height':'5.9 ft', 'email':'ujjawalshah360@gmail.com'}\n",
    "profile\n"
   ]
  },
  {
   "cell_type": "code",
   "execution_count": 34,
   "id": "a58c9b0b",
   "metadata": {},
   "outputs": [
    {
     "data": {
      "text/plain": [
       "{'f_name': 'Ujjawal',\n",
       " 'l_name': 'Shah',\n",
       " 'age': 20,\n",
       " 'height': '5.9 ft',\n",
       " 'email': 'ujjawalshah360@gmail.com',\n",
       " 'college_email': 'ujjawalshah@bison.howard.edu'}"
      ]
     },
     "execution_count": 34,
     "metadata": {},
     "output_type": "execute_result"
    }
   ],
   "source": [
    "#adding\n",
    "profile['college_email'] = 'ujjawalshah@bison.howard.edu'\n",
    "profile"
   ]
  },
  {
   "cell_type": "code",
   "execution_count": 35,
   "id": "f40c051e",
   "metadata": {},
   "outputs": [
    {
     "data": {
      "text/plain": [
       "{'f_name': 'Ujjawal',\n",
       " 'l_name': 'Shah',\n",
       " 'age': 30,\n",
       " 'height': '5.9 ft',\n",
       " 'email': 'ujjawalshah360@gmail.com',\n",
       " 'college_email': 'ujjawalshah@bison.howard.edu'}"
      ]
     },
     "execution_count": 35,
     "metadata": {},
     "output_type": "execute_result"
    }
   ],
   "source": [
    "profile['age'] = 30\n",
    "profile"
   ]
  },
  {
   "cell_type": "code",
   "execution_count": null,
   "id": "ac3c9dfa",
   "metadata": {},
   "outputs": [],
   "source": []
  }
 ],
 "metadata": {
  "kernelspec": {
   "display_name": "Python 3 (ipykernel)",
   "language": "python",
   "name": "python3"
  },
  "language_info": {
   "codemirror_mode": {
    "name": "ipython",
    "version": 3
   },
   "file_extension": ".py",
   "mimetype": "text/x-python",
   "name": "python",
   "nbconvert_exporter": "python",
   "pygments_lexer": "ipython3",
   "version": "3.9.7"
  }
 },
 "nbformat": 4,
 "nbformat_minor": 5
}
